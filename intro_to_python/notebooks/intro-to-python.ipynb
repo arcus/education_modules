{
 "cells": [
  {
   "cell_type": "markdown",
   "metadata": {},
   "source": [
    "# Introduction to Python: Jupyter Notebooks\n",
    "\n",
    "Jupyter notebooks are a great way to use Python for data analysis! Code cells are interspersed with text written in the formatting syntax Markdown. The Markdown cells can help explain your reasoning and provide other relevant context. The code cells can contain as much or as little code as you like, and the output of a cell is displayed below it when the cell is run. \n",
    "\n",
    "If a code chunk produces an output, you'll see it displayed beneath the code chunk, but don't worry if nothing is displayed! Not all code produces output (importing libraries and variable assignments are two examples of this). If there are any errors, they will also be displayed. \n",
    "\n",
    "\n",
    "## Markdown\n",
    "\n",
    "To switch between Markdown and code, click on the drop-down menu in the tool bar above (select this cell and you'll see that the menu says \"Markdown\").\n",
    "\n",
    "**Your Turn**: Change the code cell below to a Markdown cell, and then type \"This is a Markdown cell!\". Run the cell to render your text. To run a cell, select it with your cursor and then hit the \"Run\" button. If you are working in a Binder environment, or in Jupyter on your own computer, this button will be in the menu at the top of the page; in Google Colab it will be to the left of the code cell. In all cases, just look for the right-pointing triangle! You can also use the keyboard shortcut Shift+Enter instead. "
   ]
  },
  {
   "cell_type": "code",
   "execution_count": null,
   "metadata": {},
   "outputs": [],
   "source": []
  },
  {
   "cell_type": "markdown",
   "metadata": {},
   "source": [
    "## Code\n",
    "\n",
    "In the code cell below, the built-in python function `print()` function prints something to the screen (in this case, the string \"Hello, World!\").\n",
    "\n",
    "**Your Turn**: Run the code cell below, and take a look at the output that is produced!"
   ]
  },
  {
   "cell_type": "code",
   "execution_count": null,
   "metadata": {},
   "outputs": [],
   "source": [
    "print(\"Hello, World!\")"
   ]
  },
  {
   "cell_type": "markdown",
   "metadata": {},
   "source": [
    "## Import Packages/Libraries \n",
    "\n",
    "Usually, the first thing we want to do in any notebook is import any packages or libraries (or specific modules within them) that we want to use. In this case, we haven't used any functions that aren't built into base Python, and so we can practice importing packages now.\n",
    "\n",
    "**Your Turn**: Run the code cell below to import the `numpy` package and the `pyplot` module of the `matplotlib` library. Don't worry, this code cell does not produce any output!"
   ]
  },
  {
   "cell_type": "code",
   "execution_count": null,
   "metadata": {},
   "outputs": [],
   "source": [
    "import numpy as np\n",
    "from matplotlib import pyplot as plt"
   ]
  },
  {
   "cell_type": "code",
   "execution_count": null,
   "metadata": {},
   "outputs": [],
   "source": []
  }
 ],
 "metadata": {
  "kernelspec": {
   "display_name": "Python 3 (ipykernel)",
   "language": "python",
   "name": "python3"
  },
  "language_info": {
   "codemirror_mode": {
    "name": "ipython",
    "version": 3
   },
   "file_extension": ".py",
   "mimetype": "text/x-python",
   "name": "python",
   "nbconvert_exporter": "python",
   "pygments_lexer": "ipython3",
   "version": "3.8.11"
  }
 },
 "nbformat": 4,
 "nbformat_minor": 4
}
