{
 "cells": [
  {
   "cell_type": "markdown",
   "metadata": {},
   "source": [
    "# Introduction to Python: Jupyter Notebooks\n",
    "\n",
    "Jupyter notebooks are a great way to use Python for data analysis! Code cells are interspersed with text written in the formatting syntax Markdown. The Markdown cells can help explain your reasoning and provide other relevant context. The code cells can contain as much or as little code as you like, and the output of a cell is displayed below it when the cell is run. \n",
    "\n",
    "If a code chunk produces an output, you'll see it displayed beneath the code chunk, but don't worry if nothing is displayed! Not all code produces output (importing libraries and variable assignments are two examples of this). If there are any errors, they will also be displayed. In the code cell below, the `print()` function prints something to the screen (in this case, the string \"Hello, World!\").\n",
    "\n",
    "\n",
    "**Your Turn**: Run the code cell below. To run a cell, select it with your cursor and then hit the \"Run\" button. If you are working in a Binder environment, or in Jupyter on your own computer, this button will be in the menu at the top of the page; in Google Colab it will be to the left of the code cell. In all cases, just look for the right-pointing triangle! You can also use the keyboard shortcut Shift+Enter instead. "
   ]
  },
  {
   "cell_type": "code",
   "execution_count": null,
   "metadata": {},
   "outputs": [],
   "source": [
    "print(\"Hello, World!\")"
   ]
  },
  {
   "cell_type": "markdown",
   "metadata": {},
   "source": [
    "### Markdown\n",
    "\n",
    "To switch between Markdown and code, click on the drop-down menu in the tool bar above (select this cell and you'll see that the menu says \"Markdown\").\n",
    "\n",
    "**Your Turn**: Change the code cell below to a Markdown cell, and then type \"This is a Markdown cell!\". Run the cell to render your text."
   ]
  },
  {
   "cell_type": "code",
   "execution_count": null,
   "metadata": {},
   "outputs": [],
   "source": []
  },
  {
   "cell_type": "markdown",
   "metadata": {},
   "source": [
    "### Data Types\n",
    "\n",
    "In the previous code cell, we passed a string directly into the `print()` function. A **string** is a sequence of characters; you tell Python that a sequence is a string by surrounding it in quotation marks. You can use either single or double quotes, but it's recommended that you're consistent. Strings are a specific **data type** in Python; other data types include integers, floats (or decimal numbers), lists, and boolean (like True or False), but there are many more. The built-in function `type()` will give you the data type of its argument. \n",
    "\n",
    "**Your Turn**: Run the code cell below. Then try passing different kinds of values to `type()` (for example \"Hi\", 9.8, 10, or False) and run the cell again to see how the output changes."
   ]
  },
  {
   "cell_type": "code",
   "execution_count": null,
   "metadata": {},
   "outputs": [],
   "source": [
    "type(6)"
   ]
  },
  {
   "cell_type": "markdown",
   "metadata": {},
   "source": [
    "Rather than passing a value (like a string or a number) directly to a function, we can also assign values to **variables** and pass *those* to functions. For example, we can assign a list (let's say a list of fruits and vegetables) to a variable (let's call it `produce`), and then pass that variable into the built-in python function `len()` (short for \"length\") to get the number of items in that list.\n",
    "\n",
    "**Your Turn**: Run the code cell below to assign a list of elements to a list called `produce` and then get the number of elements in that list."
   ]
  },
  {
   "cell_type": "code",
   "execution_count": null,
   "metadata": {},
   "outputs": [],
   "source": [
    "produce = [\"tomato\", \"squash\", \"apple\", \"cucumber\", \"peach\", \"spinach\"]\n",
    "len(produce)"
   ]
  },
  {
   "cell_type": "markdown",
   "metadata": {},
   "source": [
    "### Lists\n",
    "\n",
    "Lists in Python are surrounded by square brackets`[ ]` and the items in the list are separated by commas. There can be duplicate values in Python lists, and lists are **changeable**; you can add remove, and alter items in a list. There are a few ways to do this, depending on exactly what you're trying to do:\n",
    "\n",
    "* `.pop()` removes a specific element by **index**. The index is the element's position in the list, and in Python, indices start at 0. So the first element is at index 0, the second is at 1, and so on (this is not necessarily the case in other programming languages).\n",
    "* `.remove()` removes a specific element by value.\n",
    "* `del` deletes objects, and can be used as another way to remove elements of a list by index. The syntax will be a little different, because it is a keyword, not a list method. It is useful because it allows you to delete list elements in a **slice**.\n",
    "\n",
    "  **Tip**: A Python **method** is very similar to a function, but is not *quite* the same. The exact differences are not important to us right now, except that there are changes to the syntax. A function can be called with just its name, followed by the arguments in parentheses (like `print(\"hello world\")`). Methods cannot be called by themselves; they are always called on an object, with the syntax `object.method()`.\n",
    "  \n",
    "\n",
    "* `.clear()` removes everything from the list\n",
    "* `.append()` adds an element to the end of a list.\n",
    "* `.insert()` adds an element to a specific position.\n",
    "* `.extend()` adds another list to your list (or another iterable object, but don't worry about that for now). \n",
    "\n",
    "**Your Turn**: Let's practice using each of these methods or keywords, using our `produce` list. Run each code cell and look at the output that is produced."
   ]
  },
  {
   "cell_type": "code",
   "execution_count": null,
   "metadata": {},
   "outputs": [],
   "source": [
    "print(produce.pop(0)) #the print() function isn't necessary, we just have it here to see the return value of pop().\n",
    "produce\n",
    "#The pound sign in a code cell indicates the start of a comment. Comments aren't recognized as code and won't be run.\n",
    "#Each line of a commment must be marked with a new pound sign. \n",
    "#Comments are an excellent way to add brief explanations and clarifications about your code. "
   ]
  },
  {
   "cell_type": "markdown",
   "metadata": {},
   "source": [
    "Notice that `pop()` also returns the value of the element that was removed. This can be useful in certain circumstances! \n",
    "\n",
    "You may have also noticed that the comments that appear in the above code cell (the lines that begin with the pound sign) don't affect how the code runs! Try removing the pound sign before one of these lines and see what happens. "
   ]
  },
  {
   "cell_type": "code",
   "execution_count": null,
   "metadata": {},
   "outputs": [],
   "source": [
    "produce.remove(\"apple\")\n",
    "produce"
   ]
  },
  {
   "cell_type": "code",
   "execution_count": null,
   "metadata": {},
   "outputs": [],
   "source": [
    "del produce[1:3]\n",
    "produce"
   ]
  },
  {
   "cell_type": "markdown",
   "metadata": {},
   "source": [
    "In the example of `del` above, we're using **subsetting notation**. The numbers give the `del` keyword the positions to start and stop deleting. So in the above example, we're deleting elements from index 1 (inclusive) to index 3 (exclusive). In this case, the square brackets mean we are retrieving specific elements from our list."
   ]
  },
  {
   "cell_type": "code",
   "execution_count": null,
   "metadata": {},
   "outputs": [],
   "source": [
    "produce.clear()\n",
    "produce"
   ]
  },
  {
   "cell_type": "code",
   "execution_count": null,
   "metadata": {},
   "outputs": [],
   "source": [
    "produce.append(\"pear\")\n",
    "produce"
   ]
  },
  {
   "cell_type": "code",
   "execution_count": null,
   "metadata": {},
   "outputs": [],
   "source": [
    "produce.insert(0,\"kale\")\n",
    "produce"
   ]
  },
  {
   "cell_type": "code",
   "execution_count": null,
   "metadata": {},
   "outputs": [],
   "source": [
    "berries= [\"strawberry\", \"blueberry\", \"raspberries\"]\n",
    "produce.extend(berries)\n",
    "produce"
   ]
  },
  {
   "cell_type": "markdown",
   "metadata": {},
   "source": [
    "Notice that we have gave our list a name, `produce`, that we used to refer to the list later when we wanted to perform operations on it. Variables are useful for saving objects for use later, usually either because it is an object that may change based on user input or because we want to use the value repeatedly in our code and we don't want to have to type it multiple times (and potentially change it in multiple places, which can lead to errors). \n",
    "\n",
    "Notice that the strings that we put into our list, like \"tomato\" or \"squash\", are in quotation marks, while the name of our list (`produce`) is not. In Python, variable names don't need quotation marks, but strings that aren't variables do, so that Python knows that they aren't variables. If, for example, you typed `squash` without defining it as a variable, you would get an error message that looks like this: `NameError: name 'squash' is not defined`. Variables are defined (or **declared**) when you assign a value to them.\n",
    "\n",
    "\n",
    "#### A Little Bit of Math\n",
    "\n",
    "There are also Python functions that allow you to perform mathematical operations on numbers, such as `sum()`. Python uses the basic mathematical operations (`+`, `-`, `*`, `/`), but a function like `sum()` takes a collection of values (such as a list) as its argument. \n",
    "\n",
    "**Your Turn**: Run the code cell below, and then try changing the elements in `numbers` to see how the output changes."
   ]
  },
  {
   "cell_type": "code",
   "execution_count": null,
   "metadata": {},
   "outputs": [],
   "source": [
    "numbers = [2.0, 6.6, 3.7, 9.8, 13.4]\n",
    "sum(numbers)"
   ]
  },
  {
   "cell_type": "markdown",
   "metadata": {},
   "source": [
    "Along with `print()`, `type(),`, `len()`, and `sum()`, there are a variety of built-in Python functions, and you can explore them here: https://docs.python.org/3/library/functions.html.\n",
    "\n",
    "### Lists and Loops\n",
    "\n",
    "A Python list is an **iterable object**, or an object whose members can be returned one at a time. This is important in **loops**, which repeat (or iterate) the same operation for each element in an iterable object like a list. \n",
    "\n",
    "For a sense of how loops work in Python, here is a simple example. Let's say there are five children at a party, and they each start with a certain number of pieces of candy. Next, let's say that we give each child 5 more pieces of candy. Using a simple loop, we can get a list of how many total pieces of candy each child has now using the `for` and `in` keywords.\n",
    "\n",
    "**Your Turn**: Look at the code cell below and try to predict what the output will be, and then run the code. How close was your prediction?"
   ]
  },
  {
   "cell_type": "code",
   "execution_count": null,
   "metadata": {},
   "outputs": [],
   "source": [
    "starting_candy = [3, 10, 11, 6, 7]\n",
    "candy_day1 = [] #Here we are initiating an empty list, so that we can add elements to it later\n",
    "for i in starting_candy: #In the loop, i will take on the value of each list element in turn\n",
    "    j = i + 5\n",
    "    candy_day1.append(j)\n",
    "candy_day1"
   ]
  },
  {
   "cell_type": "markdown",
   "metadata": {},
   "source": [
    "This example loops through the list of numbers, adds 5 to each number one at a time, and adds the sum to a new list using the `append()` method for lists. Finally, we printed the new list to our screen. This kind of loop is sometimes called a `for` loop; there is another kind of loop called a `while` loop, which is often used when we don't know the number of times we'll have to iterate through a block of code before we start (check out [this page for more information about `while` loops](https://www.w3schools.com/python/python_while_loops.asp)).\n",
    "\n",
    "**Important:** Notice that the two lines of code after the `for` statement are **indented**. This indentation is important in Python, and not just for readability! Indents indicate blocks of code, or lines of code that do a specific thing. In this case, the two lines after the `for` statement are in a different code block than the rest; they comprise the body of the loop. Indentation tells Python what statements to evaluate in what order. You also may have noticed a colon (`:`) at the end of the `for` statement. This tells Python that the following lines are a new code block and should be indented. Jupyter helps you out by automatically indenting the following lines until you give it an unindented line (like `candy_day1` at the end of the code chunk above). Be careful not to add any extra spaces! All of the lines of a code block need to be indented the same number of spaces.  \n",
    "\n",
    "Try changing the code cell above by removing the indentation in the line `candy_day1.append(j)`. How does the output change? Why do you think it changes the way that it does?\n",
    "\n",
    "Indentation is tricky, especially for complex nested loops; experienced Python programmers sometimes struggle with this, so don't worry if it takes some trial and error to figure out!\n",
    "\n",
    "#### Range\n",
    "The built-in function `range()` is frequently used in loops. `range()` returns a range object.\n",
    "\n",
    "**Your Turn**: Run the code cell below."
   ]
  },
  {
   "cell_type": "code",
   "execution_count": null,
   "metadata": {},
   "outputs": [],
   "source": [
    "range(1, 20)"
   ]
  },
  {
   "cell_type": "markdown",
   "metadata": {},
   "source": [
    "This is not terribly interesting on its own, but is very useful if you want to loop through a sequence of numbers, such as 1 to 20, without having to manually build a list of all of those numbers. If you create a list from the range object and then print that list, you'll see what's going on behind the scenes:\n",
    "\n",
    "**Your Turn**: What do you think this code will do? Run the code cell below and find out."
   ]
  },
  {
   "cell_type": "code",
   "execution_count": null,
   "metadata": {},
   "outputs": [],
   "source": [
    "print(list(range(1,20)))"
   ]
  },
  {
   "cell_type": "markdown",
   "metadata": {},
   "source": [
    "Notice that the last number listed is 19, not 20. Just like in subsetting, the first number passed to `range()` is inclusive, and the second is exclusive. And don't forget that the first position is index 0! \n",
    "\n",
    "**Your Turn**: Try to predict what number will be returned by `list(range(1,20))[7]`, and then run the code below! (**Hint**: the bracket notation below (`[ ]`) allows Python to access an element in a collection object, like a list; you saw it before when subsetting). "
   ]
  },
  {
   "cell_type": "code",
   "execution_count": null,
   "metadata": {},
   "outputs": [],
   "source": [
    "list(range(1,20))[7]"
   ]
  },
  {
   "cell_type": "markdown",
   "metadata": {},
   "source": [
    "### If else statements\n",
    "\n",
    "Sometimes when you're working with Python, you might want your code to do different things in different circumstances. You handle this with an `if else`, or **conditional**, statement. Let's look at a simple example:\n",
    "\n",
    "**Your Turn**: Run the code cell below; then, try changing `name` in the code cell above to a number and see what happens! What happens if you remove the quotation marks?"
   ]
  },
  {
   "cell_type": "code",
   "execution_count": null,
   "metadata": {},
   "outputs": [],
   "source": [
    "name = \"Pythonista\"\n",
    "if type(name) == str: #We're testing here to see if the value of name is a string. This will either evaluate to True or False.\n",
    "    print(\"Welcome, \"+ name+\"!\")\n",
    "else:\n",
    "    print(\"Please enter a name.\")"
   ]
  },
  {
   "cell_type": "markdown",
   "metadata": {},
   "source": [
    "You also aren't confined to a single \"if-else\" statement! You can have multiple conditions and define multiple results. The simplest way to do this is with the keyword `elif`. \n",
    "\n",
    "**Your Turn**: Run the code cell below and look at the output."
   ]
  },
  {
   "cell_type": "code",
   "execution_count": null,
   "metadata": {},
   "outputs": [],
   "source": [
    "num = 1\n",
    "if num < 10:\n",
    "    print(\"This number is less than 10\")\n",
    "elif 10 < num < 100:\n",
    "    print(\"This number is more than 10 but less than 100\")\n",
    "elif num >= 100:\n",
    "    print(\"This number is more than 100\")\n",
    "else:\n",
    "    print(\"This number equals 10\")"
   ]
  },
  {
   "cell_type": "markdown",
   "metadata": {},
   "source": [
    "**Your Turn**: Before you run the following code cell, predict what the outcome will be. (Hint: When you write conditional statements, Python will evaluate them in order)."
   ]
  },
  {
   "cell_type": "code",
   "execution_count": null,
   "metadata": {},
   "outputs": [],
   "source": [
    "num = 1\n",
    "if num < 100:\n",
    "    print(\"This number is less than 100\")\n",
    "elif num < 10:\n",
    "    print(\"This number is less than 10\")\n",
    "else:\n",
    "    print(\"This number equals 10\")"
   ]
  },
  {
   "cell_type": "markdown",
   "metadata": {},
   "source": [
    "Was your prediction correct?\n",
    "\n",
    "Because the conditional statements are run in order, and in the code above the first statement returns `True`, Python never gets to the second statement, even though it is also `True`! This behavior is important to remember when you're creating multiple conditional statements. \n",
    "\n",
    "### Conditionals in loops\n",
    "\n",
    "Python becomes very powerful when you start combining conditionals and loops. \n",
    "\n",
    "**Your Turn**: Let's suppose that instead of giving all of the students in the class more candy, only the students who have fewer than 10 pieces of candy already get another piece. We can still calculate how many pieces of candy each student has now (even though we're making the very unlikely assumption that none of the students have eaten any of their candy from before!). Note that we will reuse the `candy_day1` list we calculated before. "
   ]
  },
  {
   "cell_type": "code",
   "execution_count": null,
   "metadata": {},
   "outputs": [],
   "source": [
    "candy_day2 = []\n",
    "for i in candy_day1:\n",
    "    if i < 10: #tests to see if each student has less than 10 pieces of candy\n",
    "        j = i + 1 \n",
    "    else:\n",
    "        j = i \n",
    "    candy_day2.append(j)\n",
    "candy_day2"
   ]
  },
  {
   "cell_type": "markdown",
   "metadata": {},
   "source": [
    "In the case above, we've used an if-else statement within our `for` loop! These loops can actually get quite complex for some tasks, but breaking down the loop and testing out the various pieces is often a good strategy."
   ]
  },
  {
   "cell_type": "markdown",
   "metadata": {},
   "source": [
    "### Dictionaries \n",
    "\n",
    "Another kind of collection object in Python is a **dictionary**. Dictionaries are similar to lists in some ways, in that they are ordered (in recent versions of Python; in older versions, dictionaries are unordered) and changeable. However, there are some important distinctions:\n",
    "\n",
    "* Dictionaries are collections of key-value pairs; for example if you had a dictionary of demographic information for an individual, the **keys** might be the type of information stored (address, telephone number, etc.) and the **values** would be the actual values of those data (123 Puppydog Lane, 987-654-3210).\n",
    "\n",
    "* They do not allow duplicate key-value pairs. \n",
    "\n",
    "* Dictionaries use curly brackets { }.\n",
    "\n",
    "**Your Turn**: Let's make an example dictionary. Run the code cell below."
   ]
  },
  {
   "cell_type": "code",
   "execution_count": null,
   "metadata": {},
   "outputs": [],
   "source": [
    "contact_info = {\"address\" : \"123 Puppydog Lane\", \n",
    "                \"telephone\" : \"987-654-3210\", \n",
    "                \"email\" : \"myname@email.com\"}\n",
    "contact_info"
   ]
  },
  {
   "cell_type": "markdown",
   "metadata": {},
   "source": [
    "Like lists, dictionaries have some useful methods you can use to access or alter its data:\n",
    "\n",
    "* `.keys()` returns a list of the dictionary's keys.\n",
    "* `.values()` returns a list of the dictionary's values.\n",
    "* `.items()` returns a list of the dictionary's key-value pairs as tuples (this may seem not very useful at first glance, but since different collection objects have different properties, there could be circumstances in which it is more useful to have the data in a different kind of object).\n",
    "* `.pop()` works similarly for dictionaries as it does for lists, except that it removes an element by its key.\n",
    "\n",
    "**Your Turn**: Practice using these methods on dictionaries by running the following code cells and examining the output. "
   ]
  },
  {
   "cell_type": "code",
   "execution_count": null,
   "metadata": {},
   "outputs": [],
   "source": [
    "contact_info.keys()"
   ]
  },
  {
   "cell_type": "code",
   "execution_count": null,
   "metadata": {},
   "outputs": [],
   "source": [
    "contact_info.values()"
   ]
  },
  {
   "cell_type": "code",
   "execution_count": null,
   "metadata": {},
   "outputs": [],
   "source": [
    "contact_info.items()"
   ]
  },
  {
   "cell_type": "code",
   "execution_count": null,
   "metadata": {},
   "outputs": [],
   "source": [
    "print(contact_info.pop(\"email\"))\n",
    "contact_info"
   ]
  },
  {
   "cell_type": "markdown",
   "metadata": {},
   "source": [
    "There isn't a method to add items to a dictionary, but it can be done! You can give the dictionary a new key and assign a value to it (notice that we're using bracket notation again)."
   ]
  },
  {
   "cell_type": "code",
   "execution_count": null,
   "metadata": {},
   "outputs": [],
   "source": [
    "contact_info[\"work_email\"] = \"myname@company.com\"\n",
    "contact_info"
   ]
  },
  {
   "cell_type": "markdown",
   "metadata": {},
   "source": [
    "## It's Your Turn! "
   ]
  },
  {
   "cell_type": "markdown",
   "metadata": {},
   "source": [
    "Ready to practice what you've learned?\n",
    "\n",
    "A teacher friend of yours can never remember what the grade ranges are for letter grades. They have requested that you write some code that will take a list of final grades and return the letter grades corresponding to the score. After doing some research, you know that:\n",
    "\n",
    "90-100 = \"A\"\n",
    "\n",
    "80-89 = \"B\"\n",
    "\n",
    "70-79 = \"C\"\n",
    "\n",
    "60-69 = \"D\"\n",
    "\n",
    "< 60 = \"F\"\n",
    "\n",
    "Your friend also sends you the class's final grades:\n",
    "\n",
    "88, 78, 34, 97, 64, 89, 56, 77, 83, 92\n",
    "\n",
    "Using a for loop and if-else statements, can you write some code that returns the letter grades that would be assigned for the above score in the code cell below? If you get stumped, scroll down for one possible answer. \n",
    "\n",
    "If you do glance at the answer, note that your code might look a little different; as long as you get the output you're looking for, that's okay!"
   ]
  },
  {
   "cell_type": "code",
   "execution_count": null,
   "metadata": {},
   "outputs": [],
   "source": [
    "REPLACE WITH YOUR CODE"
   ]
  },
  {
   "cell_type": "markdown",
   "metadata": {},
   "source": [
    "Scroll down to see the answer when you're ready!\n",
    "\n",
    "*\n",
    "\n",
    "*\n",
    "\n",
    "*\n",
    "\n",
    "*\n",
    "\n",
    "*\n",
    "\n",
    "*\n",
    "\n",
    "*\n",
    "\n",
    "*\n",
    "\n",
    "*\n",
    "\n",
    "*\n",
    "\n",
    "*\n",
    "\n",
    "*\n",
    "\n",
    "*\n",
    "\n",
    "*\n",
    "\n",
    "*\n",
    "\n",
    "*\n",
    "\n",
    "*\n",
    "\n",
    "*\n",
    "\n",
    "*\n",
    "\n",
    "*\n",
    "\n",
    "*\n",
    "\n",
    "*\n",
    "\n",
    "*\n",
    "\n",
    "*\n",
    "\n",
    "*\n",
    "\n",
    "*\n",
    "\n",
    "*\n",
    "\n",
    "Here's one way you could have approached your teacher friend's problem:"
   ]
  },
  {
   "cell_type": "code",
   "execution_count": null,
   "metadata": {},
   "outputs": [],
   "source": [
    "final_scores = [88, 78, 34, 97, 64, 89, 56, 77, 83, 92]\n",
    "letter_grades = []\n",
    "for i in final_scores:\n",
    "    if i >= 90:\n",
    "        grade = \"A\"\n",
    "    elif 89 >= i >= 80:\n",
    "        grade = \"B\"\n",
    "    elif 79 >= i >= 70:\n",
    "        grade = \"C\"\n",
    "    elif 69 >= i >= 60:\n",
    "        grade = \"D\"\n",
    "    else:\n",
    "        grade = \"F\"\n",
    "    letter_grades.append(grade)\n",
    "letter_grades"
   ]
  },
  {
   "cell_type": "markdown",
   "metadata": {},
   "source": [
    "**Challenge**: What if your friend had given you student identifiers as well as the grades:\n",
    "\n",
    "st1: 88, st2: 78, st3: 34, st4: 97, st5: 64, st6: 89, st7: 56, st8: 83, st9: 92\n",
    "\n",
    "Can you alter your code so that the output is a dictionary with the student identifiers as the keys and the letter grades as the values? **Hint**: You'll need the identifiers and the scores in your loop. If you get stuck, try googling something like \"Python looping through items in a dictionary\". "
   ]
  },
  {
   "cell_type": "code",
   "execution_count": null,
   "metadata": {},
   "outputs": [],
   "source": [
    "REPLACE WITH YOUR CODE"
   ]
  },
  {
   "cell_type": "markdown",
   "metadata": {},
   "source": [
    "Scroll down to see one possible answer!\n",
    "\n",
    "*\n",
    "\n",
    "*\n",
    "\n",
    "*\n",
    "\n",
    "*\n",
    "\n",
    "*\n",
    "\n",
    "*\n",
    "\n",
    "*\n",
    "\n",
    "*\n",
    "\n",
    "*\n",
    "\n",
    "*\n",
    "\n",
    "*\n",
    "\n",
    "*\n",
    "\n",
    "*\n",
    "\n",
    "*\n",
    "\n",
    "*\n",
    "\n",
    "*\n",
    "\n",
    "*\n",
    "\n",
    "*\n",
    "\n",
    "*\n",
    "\n",
    "*\n",
    "\n",
    "*\n",
    "\n",
    "*\n",
    "\n",
    "*\n",
    "\n",
    "*\n",
    "\n",
    "*\n",
    "\n",
    "*\n",
    "\n",
    "*\n"
   ]
  },
  {
   "cell_type": "code",
   "execution_count": null,
   "metadata": {},
   "outputs": [],
   "source": [
    "final_scores_dict = {\"st1\": 88, \"st2\": 78, \"st3\": 34, \"st4\": 97, \"st5\": 64,\"st6\": 89, \"st7\": 56, \"st8\": 83, \"st9\": 92}\n",
    "letter_grades_dict = {}\n",
    "for k,v in final_scores_dict.items():\n",
    "    if v >= 90:\n",
    "        grade = \"A\"\n",
    "    elif 89 >= v >= 80:\n",
    "        grade = \"B\"\n",
    "    elif 79 >= v >= 70:\n",
    "        grade = \"C\"\n",
    "    elif 69 >= v >= 60:\n",
    "        grade = \"D\"\n",
    "    else:\n",
    "        grade = \"F\"\n",
    "    letter_grades_dict[k] = grade\n",
    "letter_grades_dict"
   ]
  },
  {
   "cell_type": "markdown",
   "metadata": {},
   "source": [
    "**Great Work!**\n",
    "\n",
    "Once you've finished the exercises in this notebook, feel free to change things around and add your own code! Once you're ready, [head back to the module](https://liascript.github.io/course/?https://raw.githubusercontent.com/arcus/education_modules/update-intro-to-python/intro_to_python/intro_to_python.md#11) for a quick quiz about what you learned here and more information about how to get Python and Jupyter on your own computer."
   ]
  },
  {
   "cell_type": "code",
   "execution_count": null,
   "metadata": {},
   "outputs": [],
   "source": []
  }
 ],
 "metadata": {
  "kernelspec": {
   "display_name": "Python 3 (ipykernel)",
   "language": "python",
   "name": "python3"
  },
  "language_info": {
   "codemirror_mode": {
    "name": "ipython",
    "version": 3
   },
   "file_extension": ".py",
   "mimetype": "text/x-python",
   "name": "python",
   "nbconvert_exporter": "python",
   "pygments_lexer": "ipython3",
   "version": "3.8.11"
  }
 },
 "nbformat": 4,
 "nbformat_minor": 4
}
