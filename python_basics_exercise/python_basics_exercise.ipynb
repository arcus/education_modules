{
 "cells": [
  {
   "cell_type": "markdown",
   "metadata": {},
   "source": [
    "# Python Basics: Exercise\n",
    "\n",
    "This notebook describes one possible solution to the practice exercise for the Python Basics sequence. \n",
    "\n",
    "## The Problem:\n",
    "\n",
    "A teacher friend of yours can never remember what the grade ranges are for letter grades. They have requested that you write some code that will take their students' final scores and return the letter grades corresponding to those scores. After doing some research, you know that:\n",
    "\n",
    "90-100 = \"A\"\n",
    "\n",
    "80-89 = \"B\"\n",
    "\n",
    "70-79 = \"C\"\n",
    "\n",
    "60-69 = \"D\"\n",
    "\n",
    "< 60 = \"F\"\n",
    "\n",
    "Your friend also sends you the class's final grades, along with anonymous student identifiers:\n",
    "\n",
    "st1: 88, st2: 78, st3: 34, st4: 97, st5: 64, st6: 89, st7: 56, st8: 83, st9: 92\n",
    "\n",
    "Using a `for` loop and conditional (`if-else`) statements, can you write some code that returns a **dictionary** with the student identifiers as the **keys** and the letter grades that the students should be awarded as the **values**?\n",
    "\n",
    "**Hint:** To loop through the items (the keys and values) of a dictionary that we'll call `my_dict`, you can use the code `for k,v in my_dict.items()`.\n",
    "\n",
    "To help get you started, here are the basic steps required to solve the problem:\n",
    "\n",
    "1. Build a dictionary of student identifiers and their numerical grades.\n",
    "2. Loop through the dictionary and assign a letter grade based on the value of the numerical grade.\n",
    "3. Build a new dictionary of student identifiers and their *letter* grade.\n",
    "\n",
    "### Step 1: Build our starting dictionary"
   ]
  },
  {
   "cell_type": "code",
   "execution_count": null,
   "metadata": {},
   "outputs": [],
   "source": [
    "final_scores_dict = {\"st1\": 88, \"st2\": 78, \"st3\": 34, \"st4\": 97, \"st5\": 64,\"st6\": 89, \"st7\": 56, \"st8\": 83, \"st9\": 92}"
   ]
  },
  {
   "cell_type": "markdown",
   "metadata": {},
   "source": [
    "### Step 2: Loop through the starting dictionary \n",
    "\n",
    "All we'll do to start with is loop through and print out the keys and values, just to make sure our loop works the way we hope. "
   ]
  },
  {
   "cell_type": "code",
   "execution_count": null,
   "metadata": {},
   "outputs": [],
   "source": [
    "\n",
    "for k,v in final_scores_dict.items():\n",
    "  print(k,v)"
   ]
  },
  {
   "cell_type": "markdown",
   "metadata": {},
   "source": [
    "Next, we'll use conditional statements to assign a letter grade based on the numerical grade. For now we'll just print out the grades as we assign them. "
   ]
  },
  {
   "cell_type": "code",
   "execution_count": null,
   "metadata": {},
   "outputs": [],
   "source": [
    "for k,v in final_scores_dict.items():\n",
    "    if v >= 90:\n",
    "        grade = \"A\"\n",
    "    elif 89 >= v >= 80:\n",
    "        grade = \"B\"\n",
    "    elif 79 >= v >= 70:\n",
    "        grade = \"C\"\n",
    "    elif 69 >= v >= 60:\n",
    "        grade = \"D\"\n",
    "    else:\n",
    "        grade = \"F\"\n",
    "    print(grade)"
   ]
  },
  {
   "cell_type": "markdown",
   "metadata": {},
   "source": [
    "### Step 3: Add our letter grades to a new dictionary\n",
    "\n",
    "Finally, we can create a dictionary to store our letter grades, with the student identifiers as the keys and the letter grades as the values. \n",
    "\n",
    "The first thing we need to do is to initialize an empty dictionary that will eventually be filled with our grades.  "
   ]
  },
  {
   "cell_type": "code",
   "execution_count": null,
   "metadata": {},
   "outputs": [],
   "source": [
    "letter_grades_dict = {}\n",
    "for k,v in final_scores_dict.items():\n",
    "    if v >= 90:\n",
    "        grade = \"A\"\n",
    "    elif 89 >= v >= 80:\n",
    "        grade = \"B\"\n",
    "    elif 79 >= v >= 70:\n",
    "        grade = \"C\"\n",
    "    elif 69 >= v >= 60:\n",
    "        grade = \"D\"\n",
    "    else:\n",
    "        grade = \"F\"\n",
    "    letter_grades_dict[k] = grade\n",
    "print(letter_grades_dict)"
   ]
  },
  {
   "cell_type": "markdown",
   "metadata": {},
   "source": [
    "Congratulations! You can now send the letter grades off to your teacher friend.\n"
   ]
  }
 ],
 "metadata": {
  "kernelspec": {
   "display_name": "base",
   "language": "python",
   "name": "python3"
  },
  "language_info": {
   "codemirror_mode": {
    "name": "ipython",
    "version": 3
   },
   "file_extension": ".py",
   "mimetype": "text/x-python",
   "name": "python",
   "nbconvert_exporter": "python",
   "pygments_lexer": "ipython3",
   "version": "3.8.13"
  },
  "orig_nbformat": 4
 },
 "nbformat": 4,
 "nbformat_minor": 2
}
