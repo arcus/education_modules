{
  "nbformat": 4,
  "nbformat_minor": 0,
  "metadata": {
    "colab": {
      "provenance": []
    },
    "kernelspec": {
      "name": "python3",
      "display_name": "Python 3"
    },
    "language_info": {
      "name": "python"
    }
  },
  "cells": [
    {
      "cell_type": "markdown",
      "source": [
        "# Introduction"
      ],
      "metadata": {
        "id": "JPi5A3zdglwx"
      }
    },
    {
      "cell_type": "markdown",
      "source": [
        "**Real World Code Example: Analyzing Polyp Progression in FAP Patients**\n",
        "\n",
        "This notebook investigates the effectiveness of sulindac treatment in individuals with familial adenomatous polyposis (FAP) using a refined dataset based on a landmark study published in the New England Journal of Medicine in 1993.  We'll use K-Means clustering to explore potential subgroups of patients based on their polyp progression over time.\n",
        "\n",
        "**Key Variables:**\n",
        "\n",
        "* `age`: Patient's age\n",
        "* `baseline`: Baseline polyp count\n",
        "* `number3m`: Polyp count at 3 months post-treatment\n",
        "* `number12m`: Polyp count at 12 months post-treatment"
      ],
      "metadata": {
        "id": "sZSi_qPNgomr"
      }
    },
    {
      "cell_type": "markdown",
      "source": [
        "# Install and Import"
      ],
      "metadata": {
        "id": "kemfT40hg05U"
      }
    },
    {
      "cell_type": "code",
      "source": [
        "import pandas as pd\n",
        "import io\n",
        "from pyodide.http import open_url\n",
        "from sklearn.cluster import KMeans\n",
        "from sklearn.preprocessing import StandardScaler\n",
        "import matplotlib.pyplot as plt"
      ],
      "metadata": {
        "id": "jb2mmZaPhANS"
      },
      "execution_count": null,
      "outputs": []
    },
    {
      "cell_type": "markdown",
      "source": [
        "# Load and Prepare Data"
      ],
      "metadata": {
        "id": "Qls_4siSg2uu"
      }
    },
    {
      "cell_type": "code",
      "source": [
        "# Load data from GitHub\n",
        "url = \"https://raw.githubusercontent.com/arcus/education_modules/python_clustering/python_clustering/data/polyps.csv\"\n",
        "url_contents = open_url(url)\n",
        "text = url_contents.read()\n",
        "file = io.StringIO(text)\n",
        "df = pd.read_csv(file)\n",
        "\n",
        "# Print data information\n",
        "print(df.info())\n",
        "\n",
        "# Select features for clustering\n",
        "features = ['age', 'baseline', 'number3m', 'number12m']\n",
        "X = df[features]\n",
        "\n",
        "# Fill missing values with the mean\n",
        "X.fillna(X.mean(), inplace=True)\n",
        "\n",
        "# Standardize features\n",
        "scaler = StandardScaler()\n",
        "X_scaled = scaler.fit_transform(X)"
      ],
      "metadata": {
        "id": "B5HVt_INhB9J"
      },
      "execution_count": null,
      "outputs": []
    },
    {
      "cell_type": "markdown",
      "source": [
        "# Cluster Data"
      ],
      "metadata": {
        "id": "z4yBbkVVg4cW"
      }
    },
    {
      "cell_type": "code",
      "source": [
        "# Define number of clusters\n",
        "num_clusters = 3\n",
        "\n",
        "# Apply K-Means clustering\n",
        "kmeans = KMeans(n_clusters=num_clusters, random_state=42)\n",
        "kmeans.fit(X_scaled)\n",
        "\n",
        "# Assign cluster labels\n",
        "df['cluster'] = kmeans.labels_"
      ],
      "metadata": {
        "id": "7-VYpcyXhDaq"
      },
      "execution_count": null,
      "outputs": []
    },
    {
      "cell_type": "markdown",
      "source": [
        "# Visualize Clusters"
      ],
      "metadata": {
        "id": "fEdnjjTlg6Pe"
      }
    },
    {
      "cell_type": "code",
      "source": [
        "# Visualize clusters\n",
        "plt.figure(figsize=(10, 8))\n",
        "colors = ['red', 'blue', 'green']\n",
        "\n",
        "for i in range(num_clusters):\n",
        "    cluster_data = df[df['cluster'] == i]\n",
        "    plt.scatter(cluster_data['number3m'], cluster_data['number12m'],\n",
        "                color=colors[i], label=f'Cluster {i}')\n",
        "\n",
        "plt.xlabel('Number of Polyps at 3 Months')\n",
        "plt.ylabel('Number of Polyps at 12 Months')\n",
        "plt.title('K-Means Clustering: Polyp Progression (3 vs. 12 Months)')\n",
        "plt.legend()\n",
        "plt.show()"
      ],
      "metadata": {
        "id": "HUAP2uG0hE7j"
      },
      "execution_count": null,
      "outputs": []
    },
    {
      "cell_type": "markdown",
      "source": [
        "# Interpretation and Further Analysis"
      ],
      "metadata": {
        "id": "TesjSE05g8Ea"
      }
    },
    {
      "cell_type": "markdown",
      "source": [
        "The K-Means clustering results suggest potential subgroups of patients based on polyp progression patterns:\n",
        "\n",
        "* **Cluster 1 (Low Progression):** Potentially stable or slow polyp growth.\n",
        "* **Cluster 2 (Moderate Progression):** Some increase in polyps over time.\n",
        "* **Cluster 3 (High Progression):** Substantial increase in polyps over time.\n",
        "\n",
        "**Further Analysis (Not Shown):**\n",
        "* Investigate differences in treatment (sulindac vs. placebo) between clusters.\n",
        "* Explore other patient characteristics (e.g., age, sex) within each cluster.\n",
        "* Consider alternative clustering methods or a different number of clusters.\n",
        "\n",
        "\n",
        "Remember, clustering is exploratory. Additional analysis is needed to confirm these patterns and understand the underlying factors influencing polyp progression."
      ],
      "metadata": {
        "id": "XuwxBwNshH5r"
      }
    }
  ]
}