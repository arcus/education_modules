{
 "cells": [
  {
   "cell_type": "markdown",
   "id": "5bce1e49",
   "metadata": {},
   "source": [
    "# Cervical Cancer Risk Factors\n",
    "\n",
    "## Introduction\n",
    "\n",
    "This is an example notebook in which we explore a dataset of cervical cancer risk factors from the [University of California Irvine Machine Learning Database](https://archive.ics.uci.edu/ml/index.php). Note that the \"solution\" below is not the only way to approach this task! \n",
    "\n",
    "The first thing we'll want to do is to import any libraries/packages that we'll need. Recall that you can specify an alias for libraries or packages, so we don't have to type the longer name every time. \n",
    "\n",
    "### Import libraries"
   ]
  },
  {
   "cell_type": "code",
   "execution_count": null,
   "id": "8a78eab1",
   "metadata": {},
   "outputs": [],
   "source": [
    "import pandas as pd\n",
    "from matplotlib import pyplot as plt\n",
    "import seaborn as sns\n",
    "import numpy as np"
   ]
  },
  {
   "cell_type": "markdown",
   "id": "8b90e96c",
   "metadata": {},
   "source": [
    "Next we need to import our data. We can do this by reading in the CSV using the `pandas` library. "
   ]
  },
  {
   "cell_type": "code",
   "execution_count": null,
   "id": "5490b820",
   "metadata": {},
   "outputs": [],
   "source": [
    "raw_data = pd.read_csv(\"http://archive.ics.uci.edu/ml/machine-learning-databases/00383/risk_factors_cervical_cancer.csv\")\n",
    "raw_data"
   ]
  },
  {
   "cell_type": "markdown",
   "id": "ebbc3f6b",
   "metadata": {},
   "source": [
    "Looking through the data, there seem to be a lot of question marks! This is likely indicting missing data. Python is not going to be able to handle question marks every well, and it will definitely mess up our math later! Let's re-import the data, letting Python know that the question marks should be coded as `NaN` (a special value in Python meaning \"not a number\")."
   ]
  },
  {
   "cell_type": "code",
   "execution_count": null,
   "id": "9e482e80",
   "metadata": {},
   "outputs": [],
   "source": [
    "cervical_cancer_data = pd.read_csv(\"http://archive.ics.uci.edu/ml/machine-learning-databases/00383/risk_factors_cervical_cancer.csv\", na_values=\"?\")\n",
    "cervical_cancer_data.head()"
   ]
  },
  {
   "cell_type": "markdown",
   "id": "784cf8ac",
   "metadata": {},
   "source": [
    "Since there are more columns than can be displayed above, let's list them all so we know what data we have."
   ]
  },
  {
   "cell_type": "code",
   "execution_count": null,
   "id": "5b31af84",
   "metadata": {},
   "outputs": [],
   "source": [
    "cervical_cancer_data.columns"
   ]
  },
  {
   "cell_type": "markdown",
   "id": "5fbf5359",
   "metadata": {},
   "source": [
    "### Data exploration\n",
    "\n",
    "Next, let's dig into the data itself. First, we'll create a statistical summary table using the method `.describe`."
   ]
  },
  {
   "cell_type": "code",
   "execution_count": null,
   "id": "bdc5b799",
   "metadata": {},
   "outputs": [],
   "source": [
    "cervical_cancer_data.describe()"
   ]
  },
  {
   "cell_type": "markdown",
   "id": "8655eca9",
   "metadata": {},
   "source": [
    "If we look closely, we can see that there are a few columns that are likely True/False (or \"boolean\") variables (like `Smokes` for example) that are being treated like numerical variables. We should look in the data dictionary of the dataset (found here: https://archive.ics.uci.edu/ml/datasets/Cervical+cancer+%28Risk+Factors%29). It's sparse, but we can find out which columns are supposed to be True/False and change those column types. Usually, when data are coded this way, 1 means \"True\" and 0 means \"False\". "
   ]
  },
  {
   "cell_type": "markdown",
   "id": "d328e173",
   "metadata": {},
   "source": [
    "Change boolean columns to boolean data type. (Note: Look at data dictionary)"
   ]
  },
  {
   "cell_type": "code",
   "execution_count": null,
   "id": "10bab225",
   "metadata": {},
   "outputs": [],
   "source": [
    "boolean_cols = ['Smokes', 'Hormonal Contraceptives', 'IUD', 'STDs', \n",
    "                'STDs:condylomatosis', 'STDs:cervical condylomatosis', \n",
    "                'STDs:vaginal condylomatosis', 'STDs:vulvo-perineal condylomatosis', \n",
    "                'STDs:syphilis','STDs:pelvic inflammatory disease', 'STDs:genital herpes',\n",
    "                'STDs:molluscum contagiosum', 'STDs:AIDS', 'STDs:HIV', 'STDs:Hepatitis B', \n",
    "                'STDs:HPV', 'Dx:Cancer', 'Dx:CIN', 'Dx:HPV', 'Dx', 'Hinselmann', 'Schiller',\n",
    "                'Citology', 'Biopsy']\n",
    "for x in boolean_cols:\n",
    "    cervical_cancer_data[x] = cervical_cancer_data[x].astype(\"bool\")\n",
    "cervical_cancer_data"
   ]
  },
  {
   "cell_type": "markdown",
   "id": "65379a13",
   "metadata": {},
   "source": [
    "Now, let's look at a statistical summary of just the entries where the `Dx:Cancer` is True. "
   ]
  },
  {
   "cell_type": "code",
   "execution_count": null,
   "id": "4e27cee3",
   "metadata": {},
   "outputs": [],
   "source": [
    "cancer_pos = cervical_cancer_data.loc[cervical_cancer_data.loc[:,\"Dx:Cancer\"] == True,:].copy()\n",
    "cancer_pos.describe()"
   ]
  },
  {
   "cell_type": "markdown",
   "id": "2b4968d4",
   "metadata": {},
   "source": [
    "### Exploratory data visualization \n",
    "\n",
    "Now, let's do some data visualization to explore the data. We may be able to find patterns that aren't easily seen by looking at numbers alone. \n",
    "\n",
    "First, let's look at some histograms."
   ]
  },
  {
   "cell_type": "code",
   "execution_count": null,
   "id": "25ae3aa4",
   "metadata": {},
   "outputs": [],
   "source": [
    "sns.displot(cervical_cancer_data['Age'], binwidth=5)\n",
    "plt.title(\"Histogram of Age\")\n",
    "plt.show()"
   ]
  },
  {
   "cell_type": "code",
   "execution_count": null,
   "id": "fd1dca47",
   "metadata": {},
   "outputs": [],
   "source": [
    "sns.displot(cervical_cancer_data['Smokes (packs/year)'], binwidth=1)\n",
    "plt.title('Histogram of packs of cigarettes smoked per year')\n",
    "plt.show()"
   ]
  },
  {
   "cell_type": "markdown",
   "id": "d237731a",
   "metadata": {},
   "source": [
    "How about some scatterplots? "
   ]
  },
  {
   "cell_type": "code",
   "execution_count": null,
   "id": "9879c376",
   "metadata": {},
   "outputs": [],
   "source": [
    "sns.relplot(data = cervical_cancer_data, x = cervical_cancer_data['Number of sexual partners'], y = cervical_cancer_data['STDs (number)'])\n",
    "plt.show()"
   ]
  },
  {
   "cell_type": "code",
   "execution_count": null,
   "id": "c7ea4961",
   "metadata": {},
   "outputs": [],
   "source": [
    "sns.relplot(data = cervical_cancer_data, x = cervical_cancer_data['Age'], y = cervical_cancer_data['STDs (number)'])\n",
    "plt.show()"
   ]
  },
  {
   "cell_type": "markdown",
   "id": "2d7e9bfc",
   "metadata": {},
   "source": [
    "Let's look at a boxplot next."
   ]
  },
  {
   "cell_type": "code",
   "execution_count": null,
   "id": "cc757e58",
   "metadata": {},
   "outputs": [],
   "source": [
    "sns.boxplot(y = cervical_cancer_data['Number of sexual partners'][~np.isnan(cervical_cancer_data['Number of sexual partners'])])\n",
    "plt.show()"
   ]
  },
  {
   "cell_type": "markdown",
   "id": "0574200f",
   "metadata": {},
   "source": [
    "### Heat Maps and correlations\n",
    "\n",
    "Now, let's take a look at the correlations between all of the variables. We can do this by creating a correlation table with the `.corr` method. Then, we can visualize those correlations in a heat map. "
   ]
  },
  {
   "cell_type": "code",
   "execution_count": null,
   "id": "e2e35c58",
   "metadata": {},
   "outputs": [],
   "source": [
    "corr = cervical_cancer_data.corr()\n",
    "corr.head()"
   ]
  },
  {
   "cell_type": "markdown",
   "id": "75ffb399",
   "metadata": {},
   "source": [
    "Let's make this table easier to look at by using a color gradient to shade the correlations: highly-correlated variables will be darker. "
   ]
  },
  {
   "cell_type": "code",
   "execution_count": null,
   "id": "a9a16c06",
   "metadata": {},
   "outputs": [],
   "source": [
    "corr.style.background_gradient()"
   ]
  },
  {
   "cell_type": "markdown",
   "id": "04a8c6d1",
   "metadata": {},
   "source": [
    "Now we can make a heat map using the correlations that we've calculated. "
   ]
  },
  {
   "cell_type": "code",
   "execution_count": null,
   "id": "dde8b238",
   "metadata": {},
   "outputs": [],
   "source": [
    "sns.heatmap(corr)\n",
    "plt.show()"
   ]
  },
  {
   "cell_type": "markdown",
   "id": "62ecada8",
   "metadata": {},
   "source": [
    "If we spend some time looking at this heat map, we might notice that the `Dx:Cancer` variable seems highly correlated with `Dx:HPV`. Let's pull out that correlation coefficient. "
   ]
  },
  {
   "cell_type": "code",
   "execution_count": null,
   "id": "82e09815",
   "metadata": {},
   "outputs": [],
   "source": [
    "cervical_cancer_data['Dx:Cancer'].corr(cervical_cancer_data['Dx:HPV'])"
   ]
  },
  {
   "cell_type": "markdown",
   "id": "a89e2290",
   "metadata": {},
   "source": [
    "Now it seems like we might have a working hypothesis: that a diagnosis of HPV is predictive for a diagnosis of cervical cancer. In the future, we can use statistical methods to test this hypothesis.  "
   ]
  },
  {
   "cell_type": "code",
   "execution_count": null,
   "id": "67fa7203",
   "metadata": {},
   "outputs": [],
   "source": []
  }
 ],
 "metadata": {
  "kernelspec": {
   "display_name": "Python 3 (ipykernel)",
   "language": "python",
   "name": "python3"
  },
  "language_info": {
   "codemirror_mode": {
    "name": "ipython",
    "version": 3
   },
   "file_extension": ".py",
   "mimetype": "text/x-python",
   "name": "python",
   "nbconvert_exporter": "python",
   "pygments_lexer": "ipython3",
   "version": "3.8.13"
  }
 },
 "nbformat": 4,
 "nbformat_minor": 5
}
