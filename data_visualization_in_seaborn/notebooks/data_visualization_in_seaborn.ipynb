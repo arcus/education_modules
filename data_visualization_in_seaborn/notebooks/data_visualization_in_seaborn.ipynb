{
 "cells": [
  {
   "cell_type": "markdown",
   "metadata": {},
   "source": [
    "## Setup\n",
    "\n",
    "Welcome! This notebook combines text blocks (like this one) and interactive code blocks. To run a code block, put your cursor anywhere in the block to select it and then click \"Run\" at the top. Output for that block will appear just below it. \n",
    "\n",
    "You can edit or delete any block, as well as adding new blocks --- feel free to play around with the code, that's the best way to learn! "
   ]
  },
  {
   "cell_type": "code",
   "execution_count": null,
   "metadata": {},
   "outputs": [],
   "source": [
    "import pandas as pd\n",
    "import numpy as np\n",
    "import matplotlib.pyplot as plt\n",
    "import seaborn as sns"
   ]
  },
  {
   "cell_type": "code",
   "execution_count": null,
   "metadata": {},
   "outputs": [],
   "source": [
    "covid_data = pd.read_csv(\"https://raw.githubusercontent.com/kendavidn/yaounde_serocovpop_shared/v1.0.0/data/yaounde_covid_seroprev_dataset.csv\")"
   ]
  },
  {
   "cell_type": "code",
   "execution_count": null,
   "metadata": {},
   "outputs": [],
   "source": [
    "covid_data.head()"
   ]
  },
  {
   "cell_type": "markdown",
   "metadata": {},
   "source": [
    "## Scatterplots"
   ]
  },
  {
   "cell_type": "code",
   "execution_count": null,
   "metadata": {},
   "outputs": [],
   "source": [
    "# this ensures we're starting with the default theme settings \n",
    "sns.set_theme()\n",
    "\n",
    "# basic scatterplot\n",
    "sns.relplot(data = covid_data,\n",
    "            x=\"val_age\", y=\"val_height_cm\")\n"
   ]
  },
  {
   "cell_type": "code",
   "execution_count": null,
   "metadata": {},
   "outputs": [],
   "source": [
    "# using color for continuous variables\n",
    "sns.relplot(data = covid_data,\n",
    "            x=\"val_age\", y=\"val_height_cm\", hue=\"val_weight_kg\")\n",
    "\n"
   ]
  },
  {
   "cell_type": "code",
   "execution_count": null,
   "metadata": {},
   "outputs": [],
   "source": [
    "# using color to show groups\n",
    "\n",
    "# recode is_smoker to make the variable labels shorter\n",
    "orig_codes = [\"ex_fumeur__j_ai_fum__mais_ne_fume_plus\", \"fumeur__je_fume_actuellement\", \"non_fumeur__je_n_ai_jamais_fum\"]\n",
    "new_codes = [\"ex-smoker\", \"smoker\", \"non-smoker\"]\n",
    "\n",
    "covid_data['is_smoker'] = covid_data['is_smoker'].replace(orig_codes, new_codes)\n",
    "\n",
    "\n",
    "sns.relplot(data = covid_data,\n",
    "            x=\"val_age\", y=\"val_height_cm\",\n",
    "            hue=\"is_smoker\")\n"
   ]
  },
  {
   "cell_type": "code",
   "execution_count": null,
   "metadata": {},
   "outputs": [],
   "source": [
    "# distinguishing groups more clearly with color and shape\n",
    "sns.relplot(data = covid_data, \n",
    "            x=\"val_age\", y=\"val_height_cm\",\n",
    "            hue=\"is_smoker\", style = \"is_smoker\")\n"
   ]
  },
  {
   "cell_type": "code",
   "execution_count": null,
   "metadata": {},
   "outputs": [],
   "source": [
    "# custom colors\n",
    "sns.relplot(data = covid_data, \n",
    "            x=\"val_age\", y=\"val_height_cm\",\n",
    "            hue=\"is_smoker\", style = \"is_smoker\",\n",
    "           palette = \"colorblind\")\n",
    "\n",
    "# to set the colorblind palette as default for all of our plots\n",
    "sns.set_theme(palette=\"colorblind\")"
   ]
  },
  {
   "cell_type": "code",
   "execution_count": null,
   "metadata": {},
   "outputs": [],
   "source": [
    "# controlling figure aesthetics\n",
    "\n",
    "# there are 5 preset seaborn themes: darkgrid, whitegrid, dark, white, and ticks\n",
    "sns.set_style(\"white\")\n",
    "\n",
    "\n",
    "sns.relplot(data = covid_data, \n",
    "            x=\"val_age\", y=\"val_height_cm\",\n",
    "            hue=\"is_smoker\", style = \"is_smoker\")\n"
   ]
  },
  {
   "cell_type": "code",
   "execution_count": null,
   "metadata": {},
   "outputs": [],
   "source": [
    "# there are 4 different contexts available: notebook (default), paper, talk, and poster\n",
    "sns.set_context(\"poster\")\n",
    "\n",
    "sns.relplot(data = covid_data, \n",
    "            x=\"val_age\", y=\"val_height_cm\",\n",
    "            hue=\"is_smoker\", style = \"is_smoker\")\n",
    "\n",
    "# set context back to notebook (the default)\n",
    "sns.set_context(\"notebook\")"
   ]
  },
  {
   "cell_type": "markdown",
   "metadata": {},
   "source": [
    "## Histograms"
   ]
  },
  {
   "cell_type": "code",
   "execution_count": null,
   "metadata": {},
   "outputs": [],
   "source": [
    "# basic histogram\n",
    "sns.displot(covid_data, x=\"val_age\")\n"
   ]
  },
  {
   "cell_type": "code",
   "execution_count": null,
   "metadata": {},
   "outputs": [],
   "source": [
    "# change the number of bins\n",
    "sns.displot(covid_data, x=\"val_age\", binwidth=1)\n"
   ]
  },
  {
   "cell_type": "code",
   "execution_count": null,
   "metadata": {},
   "outputs": [],
   "source": [
    "# change the number of bins\n",
    "sns.displot(covid_data, x=\"val_age\", binwidth=10)\n"
   ]
  },
  {
   "cell_type": "code",
   "execution_count": null,
   "metadata": {},
   "outputs": [],
   "source": [
    "# using color to show groups\n",
    "sns.displot(covid_data, x=\"val_age\", hue=\"is_smoker\")\n"
   ]
  },
  {
   "cell_type": "code",
   "execution_count": null,
   "metadata": {},
   "outputs": [],
   "source": [
    "# using color to show groups\n",
    "sns.displot(covid_data, x=\"val_age\", hue=\"is_smoker\", multiple=\"stack\")\n"
   ]
  },
  {
   "cell_type": "code",
   "execution_count": null,
   "metadata": {},
   "outputs": [],
   "source": [
    "# adding marginal histograms to other plots\n",
    "sns.jointplot(data=covid_data, x=\"val_age\", y=\"val_height_cm\")\n"
   ]
  },
  {
   "cell_type": "markdown",
   "metadata": {},
   "source": [
    "## Line plots"
   ]
  },
  {
   "cell_type": "code",
   "execution_count": null,
   "metadata": {},
   "outputs": [],
   "source": [
    "# load the data to use for line plots\n",
    "fmri = sns.load_dataset(\"fmri\")"
   ]
  },
  {
   "cell_type": "code",
   "execution_count": null,
   "metadata": {},
   "outputs": [],
   "source": [
    "# basic line plot\n",
    "sns.relplot(x=\"timepoint\", y=\"signal\", kind=\"line\", data=fmri)\n"
   ]
  },
  {
   "cell_type": "code",
   "execution_count": null,
   "metadata": {},
   "outputs": [],
   "source": [
    "# using color and line type to show groups\n",
    "sns.relplot(x=\"timepoint\", y=\"signal\", hue=\"event\", style=\"event\", kind=\"line\", data=fmri)\n"
   ]
  },
  {
   "cell_type": "code",
   "execution_count": null,
   "metadata": {},
   "outputs": [],
   "source": [
    "# using facets\n",
    "sns.relplot(x=\"timepoint\", y=\"signal\", hue=\"event\", style=\"event\", col = \"region\", kind=\"line\", data=fmri)\n"
   ]
  },
  {
   "cell_type": "markdown",
   "metadata": {},
   "source": [
    "## Trend lines"
   ]
  },
  {
   "cell_type": "code",
   "execution_count": null,
   "metadata": {},
   "outputs": [],
   "source": [
    "# linear regression trend lines\n",
    "sns.lmplot(data = covid_data, \n",
    "            x=\"val_age\", y=\"val_height_cm\")\n"
   ]
  },
  {
   "cell_type": "code",
   "execution_count": null,
   "metadata": {},
   "outputs": [],
   "source": [
    "# adjusting alpha\n",
    "sns.lmplot(data = covid_data, \n",
    "            x=\"val_age\", y=\"val_height_cm\", \n",
    "           scatter_kws={\"alpha\": .1})\n"
   ]
  },
  {
   "cell_type": "code",
   "execution_count": null,
   "metadata": {},
   "outputs": [],
   "source": [
    "# polynomial regression trend lines\n",
    "sns.lmplot(data = covid_data, \n",
    "            x=\"val_age\", y=\"val_height_cm\", \n",
    "           scatter_kws={\"alpha\": .1},\n",
    "           order = 2)\n"
   ]
  },
  {
   "cell_type": "code",
   "execution_count": null,
   "metadata": {},
   "outputs": [],
   "source": [
    "# lowess curve trend lines\n",
    "sns.lmplot(data = covid_data, \n",
    "            x=\"val_age\", y=\"val_height_cm\", \n",
    "           scatter_kws={\"alpha\": .1},\n",
    "           lowess=True)\n"
   ]
  },
  {
   "cell_type": "code",
   "execution_count": null,
   "metadata": {},
   "outputs": [],
   "source": []
  }
 ],
 "metadata": {
  "kernelspec": {
   "display_name": "Python 3",
   "language": "python",
   "name": "python3"
  },
  "language_info": {
   "codemirror_mode": {
    "name": "ipython",
    "version": 3
   },
   "file_extension": ".py",
   "mimetype": "text/x-python",
   "name": "python",
   "nbconvert_exporter": "python",
   "pygments_lexer": "ipython3",
   "version": "3.8.5"
  }
 },
 "nbformat": 4,
 "nbformat_minor": 4
}
